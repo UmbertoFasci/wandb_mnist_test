{
 "cells": [
  {
   "cell_type": "code",
   "execution_count": 1,
   "metadata": {},
   "outputs": [],
   "source": [
    "import tensorflow as tf\n",
    "from tensorflow import keras\n",
    "from tensorflow.keras.datasets import cifar10\n",
    "\n",
    "import os\n",
    "import numpy as np\n",
    "import pandas as pd\n",
    "import matplotlib.pyplot as plt"
   ]
  },
  {
   "cell_type": "code",
   "execution_count": 2,
   "metadata": {},
   "outputs": [
    {
     "name": "stderr",
     "output_type": "stream",
     "text": [
      "Failed to detect the name of this notebook, you can set it manually with the WANDB_NOTEBOOK_NAME environment variable to enable code saving.\n",
      "\u001b[34m\u001b[1mwandb\u001b[0m: Currently logged in as: \u001b[33muj_fasci\u001b[0m. Use \u001b[1m`wandb login --relogin`\u001b[0m to force relogin\n"
     ]
    },
    {
     "data": {
      "text/plain": [
       "True"
      ]
     },
     "execution_count": 2,
     "metadata": {},
     "output_type": "execute_result"
    }
   ],
   "source": [
    "import wandb\n",
    "from wandb.keras import WandbCallback\n",
    "\n",
    "wandb.login()"
   ]
  },
  {
   "cell_type": "code",
   "execution_count": 3,
   "metadata": {},
   "outputs": [
    {
     "name": "stdout",
     "output_type": "stream",
     "text": [
      "Metal device set to: Apple M1 Max\n",
      "\n",
      "systemMemory: 32.00 GB\n",
      "maxCacheSize: 10.67 GB\n",
      "\n"
     ]
    }
   ],
   "source": [
    "# Prepare the training dataset\n",
    "BATCH_SIZE = 64\n",
    "(x_train, y_train), (x_test, y_test) = keras.datasets.mnist.load_data()\n",
    "x_train = np.reshape(x_train, (-1, 784))\n",
    "x_test = np.reshape(x_test, (-1, 784))\n",
    "\n",
    "# Build input pipeline\n",
    "train_dataset = tf.data.Dataset.from_tensor_slices((x_train, y_train))\n",
    "train_dataset = train_dataset.shuffle(buffer_size=1024).batch(BATCH_SIZE)\n",
    "\n",
    "val_dataset = tf.data.Dataset.from_tensor_slices((x_test, y_test))\n",
    "val_dataset = val_dataset.batch(BATCH_SIZE)"
   ]
  },
  {
   "cell_type": "code",
   "execution_count": 4,
   "metadata": {},
   "outputs": [],
   "source": [
    "def make_model():\n",
    "    inputs = keras.Input(shape=(784,), name='digits')\n",
    "    x1 = keras.layers.Dense(64, activation='relu')(inputs)\n",
    "    x2 = keras.layers.Dense(64, activation='relu')(x1)\n",
    "    outputs = keras.layers.Dense(10, name='predictions')(x2)\n",
    "\n",
    "    return keras.Model(inputs=inputs, outputs=outputs)"
   ]
  },
  {
   "cell_type": "code",
   "execution_count": 5,
   "metadata": {},
   "outputs": [],
   "source": [
    "def train_step(x, y, model, optimizer, loss_fn, train_acc_metric):\n",
    "    with tf.GradientTape() as tape:\n",
    "        logits = model(x, training=True)\n",
    "        loss_value = loss_fn(y, logits)\n",
    "\n",
    "    grads = tape.gradient(loss_value, model.trainable_weights)\n",
    "    optimizer.apply_gradients(zip(grads, model.trainable_weights))\n",
    "\n",
    "    train_acc_metric.update_state(y, logits)\n",
    "\n",
    "    return loss_value"
   ]
  },
  {
   "cell_type": "code",
   "execution_count": 6,
   "metadata": {},
   "outputs": [],
   "source": [
    "def test_step(x, y, model, loss_fn, val_acc_metric):\n",
    "    val_logits = model(x, training=False)\n",
    "    loss_value = loss_fn(y, val_logits)\n",
    "    val_acc_metric.update_state(y, val_logits)\n",
    "\n",
    "    return loss_value"
   ]
  },
  {
   "cell_type": "code",
   "execution_count": 7,
   "metadata": {},
   "outputs": [],
   "source": [
    "def train(train_dataset, val_dataset, model, optimizer,\n",
    "          train_acc_metric, val_acc_metric,\n",
    "          epochs=10, log_step=200, val_log_step=50):\n",
    "    \n",
    "    for epoch in range(epochs):\n",
    "        print(\"\\nStart of epoch %d\" % (epoch,))\n",
    "\n",
    "        train_loss = []\n",
    "        val_loss = []\n",
    "\n",
    "        # Iterate over the batches of the dataset\n",
    "        for step, (x_batch_train, y_batch_train) in enumerate(train_dataset):\n",
    "            loss_value = train_step(x_batch_train, y_batch_train,\n",
    "                                    model, optimizer,\n",
    "                                    loss_fn, train_acc_metric)\n",
    "            train_loss.append(float(loss_value))\n",
    "\n",
    "        # Run a validation loop at the end of each epoch\n",
    "        for step, (x_batch_val, y_batch_val) in enumerate(val_dataset):\n",
    "            val_loss_value = test_step(x_batch_val, y_batch_val,\n",
    "                                       model, loss_fn,\n",
    "                                       val_acc_metric)\n",
    "            val_loss.append(float(val_loss_value))\n",
    "\n",
    "        # Display metrics at the end of each epoch\n",
    "        train_acc = train_acc_metric.result()\n",
    "        print(\"Training acc over epoch: %.4f\" % (float(train_acc),))\n",
    "\n",
    "        val_acc = val_acc_metric.result()\n",
    "        print(\"Validation acc: %.4f\" % (float(val_acc),))\n",
    "\n",
    "        # Reset metrics at the end of each epoch\n",
    "        train_acc_metric.reset_states()\n",
    "        val_acc_metric.reset_states()\n",
    "\n",
    "        # log metrics using wandb.log\n",
    "        wandb.log({'epochs': epoch,\n",
    "                   'loss': np.mean(train_loss),\n",
    "                   'acc': float(train_acc),\n",
    "                   'val_loss': np.mean(val_loss),\n",
    "                   'val_acc': float(val_acc)})"
   ]
  },
  {
   "cell_type": "code",
   "execution_count": 8,
   "metadata": {},
   "outputs": [
    {
     "data": {
      "text/html": [
       "Tracking run with wandb version 0.15.4"
      ],
      "text/plain": [
       "<IPython.core.display.HTML object>"
      ]
     },
     "metadata": {},
     "output_type": "display_data"
    },
    {
     "data": {
      "text/html": [
       "Run data is saved locally in <code>/Users/umbertofasci/wandb_mnist_test/Notebooks/wandb/run-20230629_160119-e65fhzll</code>"
      ],
      "text/plain": [
       "<IPython.core.display.HTML object>"
      ]
     },
     "metadata": {},
     "output_type": "display_data"
    },
    {
     "data": {
      "text/html": [
       "Syncing run <strong><a href='https://wandb.ai/uj_fasci/my-tf-integration/runs/e65fhzll' target=\"_blank\">robust-smoke-1</a></strong> to <a href='https://wandb.ai/uj_fasci/my-tf-integration' target=\"_blank\">Weights & Biases</a> (<a href='https://wandb.me/run' target=\"_blank\">docs</a>)<br/>"
      ],
      "text/plain": [
       "<IPython.core.display.HTML object>"
      ]
     },
     "metadata": {},
     "output_type": "display_data"
    },
    {
     "data": {
      "text/html": [
       " View project at <a href='https://wandb.ai/uj_fasci/my-tf-integration' target=\"_blank\">https://wandb.ai/uj_fasci/my-tf-integration</a>"
      ],
      "text/plain": [
       "<IPython.core.display.HTML object>"
      ]
     },
     "metadata": {},
     "output_type": "display_data"
    },
    {
     "data": {
      "text/html": [
       " View run at <a href='https://wandb.ai/uj_fasci/my-tf-integration/runs/e65fhzll' target=\"_blank\">https://wandb.ai/uj_fasci/my-tf-integration/runs/e65fhzll</a>"
      ],
      "text/plain": [
       "<IPython.core.display.HTML object>"
      ]
     },
     "metadata": {},
     "output_type": "display_data"
    },
    {
     "name": "stdout",
     "output_type": "stream",
     "text": [
      "\n",
      "Start of epoch 0\n",
      "Training acc over epoch: 0.6992\n",
      "Validation acc: 0.8165\n",
      "\n",
      "Start of epoch 1\n",
      "Training acc over epoch: 0.8382\n",
      "Validation acc: 0.8571\n",
      "\n",
      "Start of epoch 2\n",
      "Training acc over epoch: 0.8716\n",
      "Validation acc: 0.8811\n",
      "\n",
      "Start of epoch 3\n",
      "Training acc over epoch: 0.8895\n",
      "Validation acc: 0.8922\n",
      "\n",
      "Start of epoch 4\n",
      "Training acc over epoch: 0.9002\n",
      "Validation acc: 0.8998\n",
      "\n",
      "Start of epoch 5\n",
      "Training acc over epoch: 0.9085\n",
      "Validation acc: 0.9067\n",
      "\n",
      "Start of epoch 6\n",
      "Training acc over epoch: 0.9125\n",
      "Validation acc: 0.9084\n",
      "\n",
      "Start of epoch 7\n",
      "Training acc over epoch: 0.9179\n",
      "Validation acc: 0.9146\n",
      "\n",
      "Start of epoch 8\n",
      "Training acc over epoch: 0.9208\n",
      "Validation acc: 0.9159\n",
      "\n",
      "Start of epoch 9\n",
      "Training acc over epoch: 0.9250\n",
      "Validation acc: 0.9199\n"
     ]
    },
    {
     "ename": "NameError",
     "evalue": "name 'run_finish' is not defined",
     "output_type": "error",
     "traceback": [
      "\u001b[0;31m---------------------------------------------------------------------------\u001b[0m",
      "\u001b[0;31mNameError\u001b[0m                                 Traceback (most recent call last)",
      "Cell \u001b[0;32mIn[8], line 36\u001b[0m\n\u001b[1;32m     24\u001b[0m val_acc_metric \u001b[39m=\u001b[39m keras\u001b[39m.\u001b[39mmetrics\u001b[39m.\u001b[39mSparseCategoricalAccuracy()\n\u001b[1;32m     26\u001b[0m train(train_dataset,\n\u001b[1;32m     27\u001b[0m       val_dataset,\n\u001b[1;32m     28\u001b[0m       model,\n\u001b[0;32m   (...)\u001b[0m\n\u001b[1;32m     33\u001b[0m       log_step\u001b[39m=\u001b[39mconfig\u001b[39m.\u001b[39mlog_step,\n\u001b[1;32m     34\u001b[0m       val_log_step\u001b[39m=\u001b[39mconfig\u001b[39m.\u001b[39mval_log_step)\n\u001b[0;32m---> 36\u001b[0m run_finish()\n",
      "\u001b[0;31mNameError\u001b[0m: name 'run_finish' is not defined"
     ]
    }
   ],
   "source": [
    "config = {\n",
    "    \"learning_rate\": 0.001,\n",
    "    \"epochs\": 10,\n",
    "    \"batch_size\": 64,\n",
    "    \"log_step\": 200,\n",
    "    \"val_log_step\": 50,\n",
    "    \"architecture\": \"CNN\",\n",
    "    \"dataset\": \"CIFAR-10\"\n",
    "}\n",
    "\n",
    "run = wandb.init(project='my-tf-integration', config=config)\n",
    "config = wandb.config\n",
    "\n",
    "# Initialize model\n",
    "model = make_model()\n",
    "\n",
    "# Instantiate an optimizer to train the model.\n",
    "optimizer = keras.optimizers.SGD(learning_rate=config.learning_rate)\n",
    "# Instantiate a loss function.\n",
    "loss_fn = keras.losses.SparseCategoricalCrossentropy(from_logits=True)\n",
    "\n",
    "# Prepare the metrics\n",
    "train_acc_metric = keras.metrics.SparseCategoricalAccuracy()\n",
    "val_acc_metric = keras.metrics.SparseCategoricalAccuracy()\n",
    "\n",
    "train(train_dataset,\n",
    "      val_dataset,\n",
    "      model,\n",
    "      optimizer,\n",
    "      train_acc_metric,\n",
    "      val_acc_metric,\n",
    "      epochs=config.epochs,\n",
    "      log_step=config.log_step,\n",
    "      val_log_step=config.val_log_step)\n",
    "\n",
    "run.finish()"
   ]
  }
 ],
 "metadata": {
  "kernelspec": {
   "display_name": "tf2",
   "language": "python",
   "name": "python3"
  },
  "language_info": {
   "codemirror_mode": {
    "name": "ipython",
    "version": 3
   },
   "file_extension": ".py",
   "mimetype": "text/x-python",
   "name": "python",
   "nbconvert_exporter": "python",
   "pygments_lexer": "ipython3",
   "version": "3.10.12"
  },
  "orig_nbformat": 4
 },
 "nbformat": 4,
 "nbformat_minor": 2
}
